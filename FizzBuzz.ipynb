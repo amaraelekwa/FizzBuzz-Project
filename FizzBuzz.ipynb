{
 "cells": [
  {
   "cell_type": "markdown",
   "id": "4e6fa64e",
   "metadata": {},
   "source": [
    "# FizzBuzz\n",
    "\n",
    "FizzBuzz is a well known programming assignment, asked during interviews."
   ]
  },
  {
   "cell_type": "code",
   "execution_count": null,
   "id": "2b78b691",
   "metadata": {},
   "outputs": [
    {
     "name": "stdout",
     "output_type": "stream",
     "text": [
      "1\n",
      "Fizz\n",
      "Buzz\n",
      "7\n"
     ]
    }
   ],
   "source": [
    "# The given code solves the FizzBuzz problem.\n",
    "# It takes an input n and outputs the numbers from 1 to n.\n",
    "# For each multiple of 3, print \"Fizz\" instead of the number.\n",
    "# For each multiple of 5, prints \"Buzz\" instead of the number.\n",
    "# For numbers which are multiples of both 3 and 5, output \"FizzBuzz\".\n",
    "\n",
    "# The code is intended to skip the even numbers, so that the logic only applies to odd numbers in the range.\n",
    "\n",
    "n = int(input())\n",
    "\n",
    "for x in range(1, n):\n",
    "    if x % 2 == 0:\n",
    "        continue   #the continue statement was used to skip a loop iteration.\n",
    "    if x % 3 == 0 and x % 5 == 0:\n",
    "        print(\"FizzBuzz\")\n",
    "    elif x % 3 == 0:\n",
    "        print(\"Fizz\")\n",
    "    elif x % 5 == 0:\n",
    "        print(\"Buzz\")\n",
    "    else:\n",
    "        print(x)"
   ]
  }
 ],
 "metadata": {
  "kernelspec": {
   "display_name": "Python 3",
   "language": "python",
   "name": "python3"
  },
  "language_info": {
   "codemirror_mode": {
    "name": "ipython",
    "version": 3
   },
   "file_extension": ".py",
   "mimetype": "text/x-python",
   "name": "python",
   "nbconvert_exporter": "python",
   "pygments_lexer": "ipython3",
   "version": "3.13.2"
  }
 },
 "nbformat": 4,
 "nbformat_minor": 5
}
